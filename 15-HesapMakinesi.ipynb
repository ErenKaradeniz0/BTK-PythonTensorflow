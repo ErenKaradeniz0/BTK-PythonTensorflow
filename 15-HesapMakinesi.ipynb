{
 "cells": [
  {
   "cell_type": "code",
   "execution_count": 2,
   "metadata": {},
   "outputs": [
    {
     "name": "stdout",
     "output_type": "stream",
     "text": [
      "50 + 50 = 100\n"
     ]
    }
   ],
   "source": [
    "def hesapla(a,b,islem):\n",
    "    \n",
    "    if islem not in \"+-*/\":\n",
    "        return \"Lütfen şu işlemlerden birini seçiniz: +-*/\"\n",
    "    \n",
    "    if islem == \"+\":\n",
    "        return (str(a)+\" + \"+str(b) + \" = \" + str(a+b))\n",
    "    if islem == \"-\":\n",
    "        return (str(a)+\" - \"+str(b) + \" = \" + str(a-b))\n",
    "    if islem == \"*\":\n",
    "        return (str(a)+\" * \"+str(b) + \" = \" + str(a*b))\n",
    "    if islem == \"/\":\n",
    "        return (str(a)+\" / \"+str(b) + \" = \" + str(a/b))\n",
    "    if islem == \"\":\n",
    "        return False\n",
    "\n",
    "while True:\n",
    "    try:\n",
    "        a = int(input(\"İlk sayıyı giriniz: \"))\n",
    "        b = int(input(\"İkinci sayıyı giriniz: \"))\n",
    "        islem = input(\"İşleminizi seçiniz: +-*/\")\n",
    "        sonuc = hesapla(a,b,islem)\n",
    "        if(sonuc is False):\n",
    "            break\n",
    "        else:\n",
    "            print(sonuc)\n",
    "    except:\n",
    "        print(\"Lütfen sayıları düzgün giriniz\")"
   ]
  },
  {
   "cell_type": "code",
   "execution_count": null,
   "metadata": {},
   "outputs": [],
   "source": []
  }
 ],
 "metadata": {
  "kernelspec": {
   "display_name": "Python 3",
   "language": "python",
   "name": "python3"
  },
  "language_info": {
   "codemirror_mode": {
    "name": "ipython",
    "version": 3
   },
   "file_extension": ".py",
   "mimetype": "text/x-python",
   "name": "python",
   "nbconvert_exporter": "python",
   "pygments_lexer": "ipython3",
   "version": "3.9.13"
  }
 },
 "nbformat": 4,
 "nbformat_minor": 4
}
